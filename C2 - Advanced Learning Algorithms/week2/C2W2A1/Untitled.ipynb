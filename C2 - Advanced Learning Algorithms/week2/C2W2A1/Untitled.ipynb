{
 "cells": [
  {
   "cell_type": "code",
   "execution_count": 20,
   "id": "59deb978",
   "metadata": {},
   "outputs": [
    {
     "ename": "SyntaxError",
     "evalue": "invalid syntax (1819072739.py, line 10)",
     "output_type": "error",
     "traceback": [
      "\u001b[0;36m  Cell \u001b[0;32mIn[20], line 10\u001b[0;36m\u001b[0m\n\u001b[0;31m    from \"/Users/user/Documents/ML/Machine-Learning-Specialization-Coursera/C2 - Advanced Learning Algorithms/week2/C2W2A1/autils\" import *\u001b[0m\n\u001b[0m         ^\u001b[0m\n\u001b[0;31mSyntaxError\u001b[0m\u001b[0;31m:\u001b[0m invalid syntax\n"
     ]
    }
   ],
   "source": [
    "import numpy as np\n",
    "import tensorflow as tf\n",
    "from tensorflow.keras.models import Sequential\n",
    "from tensorflow.keras.layers import Dense\n",
    "import matplotlib.pyplot as plt\n",
    "%matplotlib inline\n",
    "import logging\n",
    "logging.getLogger(\"tensorflow\").setLevel(logging.ERROR)\n",
    "tf.autograph.set_verbosity(0)\n",
    "from \"/Users/user/Documents/ML/Machine-Learning-Specialization-Coursera/C2 - Advanced Learning Algorithms/week2/C2W2A1/autils\" import *"
   ]
  },
  {
   "cell_type": "code",
   "execution_count": 15,
   "id": "d4505c8b",
   "metadata": {},
   "outputs": [
    {
     "name": "stdout",
     "output_type": "stream",
     "text": [
      "C2_W2_Assignment.ipynb  \u001b[34mdata\u001b[m\u001b[m/                   lab_utils_softmax.py\r\n",
      "Untitled.ipynb          deeplearning.mplstyle   \u001b[34mlogs\u001b[m\u001b[m/\r\n",
      "\u001b[34m__pycache__\u001b[m\u001b[m/            \u001b[34mimages\u001b[m\u001b[m/                 public_tests.py\r\n",
      "autils.py               lab_utils_common.py\r\n"
     ]
    }
   ],
   "source": [
    "ls\n"
   ]
  },
  {
   "cell_type": "code",
   "execution_count": 18,
   "id": "7f1a0b68",
   "metadata": {},
   "outputs": [
    {
     "data": {
      "text/plain": [
       "'/Users/user/Documents/ML/Machine-Learning-Specialization-Coursera/C2 - Advanced Learning Algorithms/week2/C2W2A1'"
      ]
     },
     "execution_count": 18,
     "metadata": {},
     "output_type": "execute_result"
    }
   ],
   "source": [
    "pwd\n"
   ]
  },
  {
   "cell_type": "code",
   "execution_count": null,
   "id": "2215d709",
   "metadata": {},
   "outputs": [],
   "source": []
  }
 ],
 "metadata": {
  "kernelspec": {
   "display_name": "Python 3.10.9 (tensorflow)",
   "language": "python",
   "name": "tensorflow"
  },
  "language_info": {
   "codemirror_mode": {
    "name": "ipython",
    "version": 3
   },
   "file_extension": ".py",
   "mimetype": "text/x-python",
   "name": "python",
   "nbconvert_exporter": "python",
   "pygments_lexer": "ipython3",
   "version": "3.10.9"
  }
 },
 "nbformat": 4,
 "nbformat_minor": 5
}
